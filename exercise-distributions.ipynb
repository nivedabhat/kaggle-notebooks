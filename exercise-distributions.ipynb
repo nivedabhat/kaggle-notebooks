{
 "cells": [
  {
   "cell_type": "markdown",
   "id": "0be42f70",
   "metadata": {
    "papermill": {
     "duration": 0.006081,
     "end_time": "2024-01-24T20:33:34.312778",
     "exception": false,
     "start_time": "2024-01-24T20:33:34.306697",
     "status": "completed"
    },
    "tags": []
   },
   "source": [
    "**This notebook is an exercise in the [Data Visualization](https://www.kaggle.com/learn/data-visualization) course.  You can reference the tutorial at [this link](https://www.kaggle.com/alexisbcook/distributions).**\n",
    "\n",
    "---\n"
   ]
  },
  {
   "cell_type": "markdown",
   "id": "2ba83b8e",
   "metadata": {
    "papermill": {
     "duration": 0.005257,
     "end_time": "2024-01-24T20:33:34.324128",
     "exception": false,
     "start_time": "2024-01-24T20:33:34.318871",
     "status": "completed"
    },
    "tags": []
   },
   "source": [
    "In this exercise, you will use your new knowledge to propose a solution to a real-world scenario.  To succeed, you will need to import data into Python, answer questions using the data, and generate **histograms** and **density plots** to understand patterns in the data.\n",
    "\n",
    "## Scenario\n",
    "\n",
    "You'll work with a real-world dataset containing information collected from microscopic images of breast cancer tumors, similar to the image below.\n",
    "\n",
    "![ex4_cancer_image](https://storage.googleapis.com/kaggle-media/learn/images/qUESsJe.png)\n",
    "\n",
    "Each tumor has been labeled as either [**benign**](https://en.wikipedia.org/wiki/Benign_tumor) (_noncancerous_) or **malignant** (_cancerous_).\n",
    "\n",
    "To learn more about how this kind of data is used to create intelligent algorithms to classify tumors in medical settings, **watch the short video [at this link](https://www.youtube.com/watch?v=9Mz84cwVmS0)**."
   ]
  },
  {
   "cell_type": "markdown",
   "id": "5392b7c6",
   "metadata": {
    "papermill": {
     "duration": 0.005156,
     "end_time": "2024-01-24T20:33:34.334817",
     "exception": false,
     "start_time": "2024-01-24T20:33:34.329661",
     "status": "completed"
    },
    "tags": []
   },
   "source": [
    "\n",
    "\n",
    "## Setup\n",
    "\n",
    "Run the next cell to import and configure the Python libraries that you need to complete the exercise."
   ]
  },
  {
   "cell_type": "code",
   "execution_count": 1,
   "id": "7ad57fb3",
   "metadata": {
    "execution": {
     "iopub.execute_input": "2024-01-24T20:33:34.347969Z",
     "iopub.status.busy": "2024-01-24T20:33:34.347478Z",
     "iopub.status.idle": "2024-01-24T20:33:36.322448Z",
     "shell.execute_reply": "2024-01-24T20:33:36.321557Z"
    },
    "papermill": {
     "duration": 1.984658,
     "end_time": "2024-01-24T20:33:36.324986",
     "exception": false,
     "start_time": "2024-01-24T20:33:34.340328",
     "status": "completed"
    },
    "tags": []
   },
   "outputs": [
    {
     "name": "stdout",
     "output_type": "stream",
     "text": [
      "Setup Complete\n"
     ]
    }
   ],
   "source": [
    "import pandas as pd\n",
    "pd.plotting.register_matplotlib_converters()\n",
    "import matplotlib.pyplot as plt\n",
    "%matplotlib inline\n",
    "import seaborn as sns\n",
    "print(\"Setup Complete\")"
   ]
  },
  {
   "cell_type": "markdown",
   "id": "c8f22b6b",
   "metadata": {
    "papermill": {
     "duration": 0.005444,
     "end_time": "2024-01-24T20:33:36.336595",
     "exception": false,
     "start_time": "2024-01-24T20:33:36.331151",
     "status": "completed"
    },
    "tags": []
   },
   "source": [
    "The questions below will give you feedback on your work. Run the following cell to set up our feedback system."
   ]
  },
  {
   "cell_type": "code",
   "execution_count": 2,
   "id": "e374a597",
   "metadata": {
    "execution": {
     "iopub.execute_input": "2024-01-24T20:33:36.350715Z",
     "iopub.status.busy": "2024-01-24T20:33:36.349929Z",
     "iopub.status.idle": "2024-01-24T20:33:36.433716Z",
     "shell.execute_reply": "2024-01-24T20:33:36.432266Z"
    },
    "papermill": {
     "duration": 0.093549,
     "end_time": "2024-01-24T20:33:36.436137",
     "exception": false,
     "start_time": "2024-01-24T20:33:36.342588",
     "status": "completed"
    },
    "tags": []
   },
   "outputs": [
    {
     "name": "stdout",
     "output_type": "stream",
     "text": [
      "Setup Complete\n"
     ]
    }
   ],
   "source": [
    "# Set up code checking\n",
    "from learntools.core import binder\n",
    "binder.bind(globals())\n",
    "from learntools.data_viz_to_coder.ex5 import *\n",
    "print(\"Setup Complete\")"
   ]
  },
  {
   "cell_type": "markdown",
   "id": "62665965",
   "metadata": {
    "papermill": {
     "duration": 0.005471,
     "end_time": "2024-01-24T20:33:36.447371",
     "exception": false,
     "start_time": "2024-01-24T20:33:36.441900",
     "status": "completed"
    },
    "tags": []
   },
   "source": [
    "## Step 1: Load the data\n",
    "\n",
    "In this step, you will load the data.\n",
    "- Load the data file into a DataFrame called `cancer_data`.  \n",
    "- The corresponding filepath is `cancer_filepath`.  \n",
    "- Use the `\"Id\"` column to label the rows."
   ]
  },
  {
   "cell_type": "code",
   "execution_count": 3,
   "id": "8c50e7a8",
   "metadata": {
    "execution": {
     "iopub.execute_input": "2024-01-24T20:33:36.460460Z",
     "iopub.status.busy": "2024-01-24T20:33:36.460069Z",
     "iopub.status.idle": "2024-01-24T20:33:36.484541Z",
     "shell.execute_reply": "2024-01-24T20:33:36.483413Z"
    },
    "papermill": {
     "duration": 0.033659,
     "end_time": "2024-01-24T20:33:36.486734",
     "exception": false,
     "start_time": "2024-01-24T20:33:36.453075",
     "status": "completed"
    },
    "tags": []
   },
   "outputs": [
    {
     "data": {
      "application/javascript": [
       "parent.postMessage({\"jupyterEvent\": \"custom.exercise_interaction\", \"data\": {\"outcomeType\": 1, \"valueTowardsCompletion\": 0.5, \"interactionType\": 1, \"questionType\": 1, \"questionId\": \"1_LoadCancerData\", \"learnToolsVersion\": \"0.3.4\", \"failureMessage\": \"\", \"exceptionClass\": \"\", \"trace\": \"\"}}, \"*\")"
      ],
      "text/plain": [
       "<IPython.core.display.Javascript object>"
      ]
     },
     "metadata": {},
     "output_type": "display_data"
    },
    {
     "data": {
      "text/markdown": [
       "<span style=\"color:#33cc33\">Correct</span>"
      ],
      "text/plain": [
       "Correct"
      ]
     },
     "metadata": {},
     "output_type": "display_data"
    }
   ],
   "source": [
    "# Path of the files to read\n",
    "cancer_filepath = \"../input/cancer.csv\"\n",
    "\n",
    "# Read the file into a variable cancer_data\n",
    "cancer_data = pd.read_csv(cancer_filepath, index_col='Id')\n",
    "\n",
    "# Check that you've loaded the data correctly\n",
    "step_1.check()"
   ]
  },
  {
   "cell_type": "code",
   "execution_count": 4,
   "id": "d03c6662",
   "metadata": {
    "execution": {
     "iopub.execute_input": "2024-01-24T20:33:36.500883Z",
     "iopub.status.busy": "2024-01-24T20:33:36.499933Z",
     "iopub.status.idle": "2024-01-24T20:33:36.504734Z",
     "shell.execute_reply": "2024-01-24T20:33:36.503781Z"
    },
    "papermill": {
     "duration": 0.014278,
     "end_time": "2024-01-24T20:33:36.506958",
     "exception": false,
     "start_time": "2024-01-24T20:33:36.492680",
     "status": "completed"
    },
    "tags": []
   },
   "outputs": [],
   "source": [
    "# Lines below will give you a hint or solution code\n",
    "#step_1.hint()\n",
    "#step_1.solution()"
   ]
  },
  {
   "cell_type": "markdown",
   "id": "f1554f3a",
   "metadata": {
    "papermill": {
     "duration": 0.006851,
     "end_time": "2024-01-24T20:33:36.520740",
     "exception": false,
     "start_time": "2024-01-24T20:33:36.513889",
     "status": "completed"
    },
    "tags": []
   },
   "source": [
    "## Step 2: Review the data\n",
    "\n",
    "Use a Python command to print the first 5 rows of the data."
   ]
  },
  {
   "cell_type": "code",
   "execution_count": 5,
   "id": "1b324e68",
   "metadata": {
    "execution": {
     "iopub.execute_input": "2024-01-24T20:33:36.534997Z",
     "iopub.status.busy": "2024-01-24T20:33:36.534389Z",
     "iopub.status.idle": "2024-01-24T20:33:36.552656Z",
     "shell.execute_reply": "2024-01-24T20:33:36.551438Z"
    },
    "papermill": {
     "duration": 0.028399,
     "end_time": "2024-01-24T20:33:36.555297",
     "exception": false,
     "start_time": "2024-01-24T20:33:36.526898",
     "status": "completed"
    },
    "tags": []
   },
   "outputs": [
    {
     "name": "stdout",
     "output_type": "stream",
     "text": [
      "         Diagnosis  Radius (mean)  Texture (mean)  Perimeter (mean)  \\\n",
      "Id                                                                    \n",
      "8510426          B         13.540           14.36             87.46   \n",
      "8510653          B         13.080           15.71             85.63   \n",
      "8510824          B          9.504           12.44             60.34   \n",
      "854941           B         13.030           18.42             82.61   \n",
      "85713702         B          8.196           16.84             51.71   \n",
      "\n",
      "          Area (mean)  Smoothness (mean)  Compactness (mean)  \\\n",
      "Id                                                             \n",
      "8510426         566.3            0.09779             0.08129   \n",
      "8510653         520.0            0.10750             0.12700   \n",
      "8510824         273.9            0.10240             0.06492   \n",
      "854941          523.8            0.08983             0.03766   \n",
      "85713702        201.9            0.08600             0.05943   \n",
      "\n",
      "          Concavity (mean)  Concave points (mean)  Symmetry (mean)  ...  \\\n",
      "Id                                                                  ...   \n",
      "8510426            0.06664               0.047810           0.1885  ...   \n",
      "8510653            0.04568               0.031100           0.1967  ...   \n",
      "8510824            0.02956               0.020760           0.1815  ...   \n",
      "854941             0.02562               0.029230           0.1467  ...   \n",
      "85713702           0.01588               0.005917           0.1769  ...   \n",
      "\n",
      "          Radius (worst)  Texture (worst)  Perimeter (worst)  Area (worst)  \\\n",
      "Id                                                                           \n",
      "8510426           15.110            19.26              99.70         711.2   \n",
      "8510653           14.500            20.49              96.09         630.5   \n",
      "8510824           10.230            15.66              65.13         314.9   \n",
      "854941            13.300            22.81              84.46         545.9   \n",
      "85713702           8.964            21.96              57.26         242.2   \n",
      "\n",
      "          Smoothness (worst)  Compactness (worst)  Concavity (worst)  \\\n",
      "Id                                                                     \n",
      "8510426              0.14400              0.17730            0.23900   \n",
      "8510653              0.13120              0.27760            0.18900   \n",
      "8510824              0.13240              0.11480            0.08867   \n",
      "854941               0.09701              0.04619            0.04833   \n",
      "85713702             0.12970              0.13570            0.06880   \n",
      "\n",
      "          Concave points (worst)  Symmetry (worst)  Fractal dimension (worst)  \n",
      "Id                                                                             \n",
      "8510426                  0.12880            0.2977                    0.07259  \n",
      "8510653                  0.07283            0.3184                    0.08183  \n",
      "8510824                  0.06227            0.2450                    0.07773  \n",
      "854941                   0.05013            0.1987                    0.06169  \n",
      "85713702                 0.02564            0.3105                    0.07409  \n",
      "\n",
      "[5 rows x 31 columns]\n"
     ]
    }
   ],
   "source": [
    "# Print the first five rows of the data\n",
    "print(cancer_data.head()) # Your code here"
   ]
  },
  {
   "cell_type": "markdown",
   "id": "4c4c6764",
   "metadata": {
    "papermill": {
     "duration": 0.005897,
     "end_time": "2024-01-24T20:33:36.567399",
     "exception": false,
     "start_time": "2024-01-24T20:33:36.561502",
     "status": "completed"
    },
    "tags": []
   },
   "source": [
    "In the dataset, each row corresponds to a different image.  The dataset has 31 different columns, corresponding to:\n",
    "- 1 column (`'Diagnosis'`) that classifies tumors as either benign (which appears in the dataset as **`B`**) or malignant (__`M`__), and\n",
    "- 30 columns containing different measurements collected from the images.\n",
    "\n",
    "Use the first 5 rows of the data to answer the questions below."
   ]
  },
  {
   "cell_type": "code",
   "execution_count": 6,
   "id": "6e34df70",
   "metadata": {
    "execution": {
     "iopub.execute_input": "2024-01-24T20:33:36.581486Z",
     "iopub.status.busy": "2024-01-24T20:33:36.581099Z",
     "iopub.status.idle": "2024-01-24T20:33:36.588734Z",
     "shell.execute_reply": "2024-01-24T20:33:36.587538Z"
    },
    "papermill": {
     "duration": 0.017649,
     "end_time": "2024-01-24T20:33:36.591328",
     "exception": false,
     "start_time": "2024-01-24T20:33:36.573679",
     "status": "completed"
    },
    "tags": []
   },
   "outputs": [],
   "source": [
    "# Fill in the line below: In the first five rows of the data, what is the\n",
    "# largest value for 'Perimeter (mean)'?\n",
    "max_perim = cancer_data['Perimeter (mean)'].max()\n",
    "\n",
    "# Fill in the line below: What is the value for 'Radius (mean)' for the tumor with Id 8510824?\n",
    "mean_radius = cancer_data.loc[8510824, 'Radius (mean)']\n"
   ]
  },
  {
   "cell_type": "code",
   "execution_count": 7,
   "id": "618ec2be",
   "metadata": {
    "execution": {
     "iopub.execute_input": "2024-01-24T20:33:36.605443Z",
     "iopub.status.busy": "2024-01-24T20:33:36.605052Z",
     "iopub.status.idle": "2024-01-24T20:33:36.609829Z",
     "shell.execute_reply": "2024-01-24T20:33:36.608512Z"
    },
    "papermill": {
     "duration": 0.014086,
     "end_time": "2024-01-24T20:33:36.611703",
     "exception": false,
     "start_time": "2024-01-24T20:33:36.597617",
     "status": "completed"
    },
    "tags": []
   },
   "outputs": [],
   "source": [
    "# Lines below will give you a hint or solution code\n",
    "#step_2.hint()\n",
    "#step_2.solution()"
   ]
  },
  {
   "cell_type": "markdown",
   "id": "6dbcc81b",
   "metadata": {
    "papermill": {
     "duration": 0.005843,
     "end_time": "2024-01-24T20:33:36.624304",
     "exception": false,
     "start_time": "2024-01-24T20:33:36.618461",
     "status": "completed"
    },
    "tags": []
   },
   "source": [
    "## Step 3: Investigating differences"
   ]
  },
  {
   "cell_type": "markdown",
   "id": "98eeb77f",
   "metadata": {
    "papermill": {
     "duration": 0.005945,
     "end_time": "2024-01-24T20:33:36.636382",
     "exception": false,
     "start_time": "2024-01-24T20:33:36.630437",
     "status": "completed"
    },
    "tags": []
   },
   "source": [
    "#### Part A\n",
    "\n",
    "Use the code cell below to create two histograms that show the distribution in values for `'Area (mean)'`, separately for both benign and malignant tumors.  (_To permit easy comparison, create a single figure containing both histograms in the code cell below._)"
   ]
  },
  {
   "cell_type": "code",
   "execution_count": 8,
   "id": "f644f207",
   "metadata": {
    "execution": {
     "iopub.execute_input": "2024-01-24T20:33:36.650641Z",
     "iopub.status.busy": "2024-01-24T20:33:36.649969Z",
     "iopub.status.idle": "2024-01-24T20:33:36.963564Z",
     "shell.execute_reply": "2024-01-24T20:33:36.962438Z"
    },
    "papermill": {
     "duration": 0.323571,
     "end_time": "2024-01-24T20:33:36.966117",
     "exception": false,
     "start_time": "2024-01-24T20:33:36.642546",
     "status": "completed"
    },
    "tags": []
   },
   "outputs": [
    {
     "data": {
      "image/png": "[encoded data removed]",
      "text/plain": [
       "<Figure size 640x480 with 1 Axes>"
      ]
     },
     "metadata": {},
     "output_type": "display_data"
    }
   ],
   "source": [
    "# Histograms for benign and maligant tumors\n",
    "sns.histplot(data=cancer_data, x='Area (mean)', hue='Diagnosis', element='step', stat='density', common_norm=False)\n",
    "plt.show()\n",
    "\n"
   ]
  },
  {
   "cell_type": "code",
   "execution_count": 9,
   "id": "2568f67f",
   "metadata": {
    "execution": {
     "iopub.execute_input": "2024-01-24T20:33:36.981156Z",
     "iopub.status.busy": "2024-01-24T20:33:36.980793Z",
     "iopub.status.idle": "2024-01-24T20:33:36.986211Z",
     "shell.execute_reply": "2024-01-24T20:33:36.984666Z"
    },
    "papermill": {
     "duration": 0.016033,
     "end_time": "2024-01-24T20:33:36.988872",
     "exception": false,
     "start_time": "2024-01-24T20:33:36.972839",
     "status": "completed"
    },
    "tags": []
   },
   "outputs": [],
   "source": [
    "# Lines below will give you a hint or solution code\n",
    "#step_3.a.hint()\n",
    "#step_3.a.solution_plot()"
   ]
  },
  {
   "cell_type": "markdown",
   "id": "ad287173",
   "metadata": {
    "papermill": {
     "duration": 0.006612,
     "end_time": "2024-01-24T20:33:37.002465",
     "exception": false,
     "start_time": "2024-01-24T20:33:36.995853",
     "status": "completed"
    },
    "tags": []
   },
   "source": [
    "#### Part B\n",
    "\n",
    "A researcher approaches you for help with identifying how the `'Area (mean)'` column can be used to understand the difference between benign and malignant tumors.  Based on the histograms above, \n",
    "- Do malignant tumors have higher or lower values for `'Area (mean)'` (relative to benign tumors), on average?\n",
    "- Which tumor type seems to have a larger range of potential values?"
   ]
  },
  {
   "cell_type": "code",
   "execution_count": 10,
   "id": "9a12058f",
   "metadata": {
    "execution": {
     "iopub.execute_input": "2024-01-24T20:33:37.017818Z",
     "iopub.status.busy": "2024-01-24T20:33:37.017444Z",
     "iopub.status.idle": "2024-01-24T20:33:37.022113Z",
     "shell.execute_reply": "2024-01-24T20:33:37.021220Z"
    },
    "papermill": {
     "duration": 0.015213,
     "end_time": "2024-01-24T20:33:37.024460",
     "exception": false,
     "start_time": "2024-01-24T20:33:37.009247",
     "status": "completed"
    },
    "tags": []
   },
   "outputs": [],
   "source": [
    "#step_3.b.hint()"
   ]
  },
  {
   "cell_type": "code",
   "execution_count": 11,
   "id": "04afd9b9",
   "metadata": {
    "execution": {
     "iopub.execute_input": "2024-01-24T20:33:37.040832Z",
     "iopub.status.busy": "2024-01-24T20:33:37.040459Z",
     "iopub.status.idle": "2024-01-24T20:33:37.048969Z",
     "shell.execute_reply": "2024-01-24T20:33:37.047939Z"
    },
    "papermill": {
     "duration": 0.019511,
     "end_time": "2024-01-24T20:33:37.051290",
     "exception": false,
     "start_time": "2024-01-24T20:33:37.031779",
     "status": "completed"
    },
    "tags": []
   },
   "outputs": [
    {
     "data": {
      "application/javascript": [
       "parent.postMessage({\"jupyterEvent\": \"custom.exercise_interaction\", \"data\": {\"interactionType\": 3, \"questionType\": 4, \"questionId\": \"3.2_ThinkHist\", \"learnToolsVersion\": \"0.3.4\", \"valueTowardsCompletion\": 0.0, \"failureMessage\": \"\", \"exceptionClass\": \"\", \"trace\": \"\", \"outcomeType\": 4}}, \"*\")"
      ],
      "text/plain": [
       "<IPython.core.display.Javascript object>"
      ]
     },
     "metadata": {},
     "output_type": "display_data"
    },
    {
     "data": {
      "text/markdown": [
       "<span style=\"color:#33cc99\">Solution:</span> Malignant tumors have higher values for `'Area (mean)'`, on average. Malignant tumors have a larger range of potential values."
      ],
      "text/plain": [
       "Solution: Malignant tumors have higher values for `'Area (mean)'`, on average. Malignant tumors have a larger range of potential values."
      ]
     },
     "metadata": {},
     "output_type": "display_data"
    }
   ],
   "source": [
    "# Check your answer (Run this code cell to receive credit!)\n",
    "step_3.b.solution()"
   ]
  },
  {
   "cell_type": "markdown",
   "id": "1b97cfe6",
   "metadata": {
    "papermill": {
     "duration": 0.006737,
     "end_time": "2024-01-24T20:33:37.065212",
     "exception": false,
     "start_time": "2024-01-24T20:33:37.058475",
     "status": "completed"
    },
    "tags": []
   },
   "source": [
    "## Step 4: A very useful column\n",
    "\n",
    "#### Part A\n",
    "\n",
    "Use the code cell below to create two KDE plots that show the distribution in values for `'Radius (worst)'`, separately for both benign and malignant tumors.  (_To permit easy comparison, create a single figure containing both KDE plots in the code cell below._)"
   ]
  },
  {
   "cell_type": "code",
   "execution_count": 12,
   "id": "8b2b6c5e",
   "metadata": {
    "execution": {
     "iopub.execute_input": "2024-01-24T20:33:37.081259Z",
     "iopub.status.busy": "2024-01-24T20:33:37.080883Z",
     "iopub.status.idle": "2024-01-24T20:33:37.393567Z",
     "shell.execute_reply": "2024-01-24T20:33:37.392203Z"
    },
    "papermill": {
     "duration": 0.324017,
     "end_time": "2024-01-24T20:33:37.396398",
     "exception": false,
     "start_time": "2024-01-24T20:33:37.072381",
     "status": "completed"
    },
    "tags": []
   },
   "outputs": [
    {
     "data": {
      "image/png": "[encoded data removed]",
      "text/plain": [
       "<Figure size 640x480 with 1 Axes>"
      ]
     },
     "metadata": {},
     "output_type": "display_data"
    }
   ],
   "source": [
    "# KDE plots for benign and malignant tumors\n",
    "sns.kdeplot(data=cancer_data, x='Radius (worst)', hue='Diagnosis', common_norm=False, fill=True)\n",
    "plt.show()\n"
   ]
  },
  {
   "cell_type": "code",
   "execution_count": 13,
   "id": "5f58214e",
   "metadata": {
    "execution": {
     "iopub.execute_input": "2024-01-24T20:33:37.414367Z",
     "iopub.status.busy": "2024-01-24T20:33:37.413949Z",
     "iopub.status.idle": "2024-01-24T20:33:37.418271Z",
     "shell.execute_reply": "2024-01-24T20:33:37.417057Z"
    },
    "papermill": {
     "duration": 0.016068,
     "end_time": "2024-01-24T20:33:37.420537",
     "exception": false,
     "start_time": "2024-01-24T20:33:37.404469",
     "status": "completed"
    },
    "tags": []
   },
   "outputs": [],
   "source": [
    "# Lines below will give you a hint or solution code\n",
    "#step_4.a.hint()\n",
    "#step_4.a.solution_plot()"
   ]
  },
  {
   "cell_type": "markdown",
   "id": "529f6f43",
   "metadata": {
    "papermill": {
     "duration": 0.007438,
     "end_time": "2024-01-24T20:33:37.436056",
     "exception": false,
     "start_time": "2024-01-24T20:33:37.428618",
     "status": "completed"
    },
    "tags": []
   },
   "source": [
    "#### Part B\n",
    "\n",
    "A hospital has recently started using an algorithm that can diagnose tumors with high accuracy.  Given a tumor with a value for `'Radius (worst)'` of 25, do you think the algorithm is more likely to classify the tumor as benign or malignant?"
   ]
  },
  {
   "cell_type": "code",
   "execution_count": 14,
   "id": "3f1d02ca",
   "metadata": {
    "execution": {
     "iopub.execute_input": "2024-01-24T20:33:37.453671Z",
     "iopub.status.busy": "2024-01-24T20:33:37.453290Z",
     "iopub.status.idle": "2024-01-24T20:33:37.457525Z",
     "shell.execute_reply": "2024-01-24T20:33:37.456427Z"
    },
    "papermill": {
     "duration": 0.01546,
     "end_time": "2024-01-24T20:33:37.459568",
     "exception": false,
     "start_time": "2024-01-24T20:33:37.444108",
     "status": "completed"
    },
    "tags": []
   },
   "outputs": [],
   "source": [
    "#step_4.b.hint()"
   ]
  },
  {
   "cell_type": "code",
   "execution_count": 15,
   "id": "037e301c",
   "metadata": {
    "execution": {
     "iopub.execute_input": "2024-01-24T20:33:37.477185Z",
     "iopub.status.busy": "2024-01-24T20:33:37.476818Z",
     "iopub.status.idle": "2024-01-24T20:33:37.485009Z",
     "shell.execute_reply": "2024-01-24T20:33:37.484018Z"
    },
    "papermill": {
     "duration": 0.019574,
     "end_time": "2024-01-24T20:33:37.487119",
     "exception": false,
     "start_time": "2024-01-24T20:33:37.467545",
     "status": "completed"
    },
    "tags": []
   },
   "outputs": [
    {
     "data": {
      "application/javascript": [
       "parent.postMessage({\"jupyterEvent\": \"custom.exercise_interaction\", \"data\": {\"interactionType\": 3, \"questionType\": 4, \"questionId\": \"4.2_ThinkThreshold\", \"learnToolsVersion\": \"0.3.4\", \"valueTowardsCompletion\": 0.0, \"failureMessage\": \"\", \"exceptionClass\": \"\", \"trace\": \"\", \"outcomeType\": 4}}, \"*\")"
      ],
      "text/plain": [
       "<IPython.core.display.Javascript object>"
      ]
     },
     "metadata": {},
     "output_type": "display_data"
    },
    {
     "data": {
      "text/markdown": [
       "<span style=\"color:#33cc99\">Solution:</span> The algorithm is more likely to classify the tumor as malignant. This is because the curve for malignant tumors is much higher than the curve for benign tumors around a value of 25 -- and an algorithm that gets high accuracy is likely to make decisions based on this pattern in the data."
      ],
      "text/plain": [
       "Solution: The algorithm is more likely to classify the tumor as malignant. This is because the curve for malignant tumors is much higher than the curve for benign tumors around a value of 25 -- and an algorithm that gets high accuracy is likely to make decisions based on this pattern in the data."
      ]
     },
     "metadata": {},
     "output_type": "display_data"
    }
   ],
   "source": [
    "# Check your answer (Run this code cell to receive credit!)\n",
    "step_4.b.solution()"
   ]
  },
  {
   "cell_type": "markdown",
   "id": "82af4c08",
   "metadata": {
    "papermill": {
     "duration": 0.007756,
     "end_time": "2024-01-24T20:33:37.502798",
     "exception": false,
     "start_time": "2024-01-24T20:33:37.495042",
     "status": "completed"
    },
    "tags": []
   },
   "source": [
    "## Keep going\n",
    "\n",
    "Review all that you've learned and explore how to further customize your plots in the **[next tutorial](https://www.kaggle.com/alexisbcook/choosing-plot-types-and-custom-styles)**!"
   ]
  },
  {
   "cell_type": "markdown",
   "id": "84135ac5",
   "metadata": {
    "papermill": {
     "duration": 0.00778,
     "end_time": "2024-01-24T20:33:37.518554",
     "exception": false,
     "start_time": "2024-01-24T20:33:37.510774",
     "status": "completed"
    },
    "tags": []
   },
   "source": [
    "---\n",
    "\n",
    "\n",
    "\n",
    "\n",
    "*Have questions or comments? Visit the [course discussion forum](https://www.kaggle.com/learn/data-visualization/discussion) to chat with other learners.*"
   ]
  }
 ],
 "metadata": {
  "kaggle": {
   "accelerator": "none",
   "dataSources": [
    {
     "datasetId": 116573,
     "sourceId": 3551030,
     "sourceType": "datasetVersion"
    }
   ],
   "isGpuEnabled": false,
   "isInternetEnabled": false,
   "language": "python",
   "sourceType": "notebook"
  },
  "kernelspec": {
   "display_name": "Python 3",
   "language": "python",
   "name": "python3"
  },
  "language_info": {
   "codemirror_mode": {
    "name": "ipython",
    "version": 3
   },
   "file_extension": ".py",
   "mimetype": "text/x-python",
   "name": "python",
   "nbconvert_exporter": "python",
   "pygments_lexer": "ipython3",
   "version": "3.10.12"
  },
  "papermill": {
   "default_parameters": {},
   "duration": 7.025395,
   "end_time": "2024-01-24T20:33:38.148735",
   "environment_variables": {},
   "exception": null,
   "input_path": "__notebook__.ipynb",
   "output_path": "__notebook__.ipynb",
   "parameters": {},
   "start_time": "2024-01-24T20:33:31.123340",
   "version": "2.4.0"
  }
 },
 "nbformat": 4,
 "nbformat_minor": 5
}

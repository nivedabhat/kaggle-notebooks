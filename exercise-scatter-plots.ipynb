{
 "cells": [
  {
   "cell_type": "markdown",
   "id": "a3c5ae8a",
   "metadata": {
    "papermill": {
     "duration": 0.01259,
     "end_time": "2024-01-24T20:23:24.267163",
     "exception": false,
     "start_time": "2024-01-24T20:23:24.254573",
     "status": "completed"
    },
    "tags": []
   },
   "source": [
    "**This notebook is an exercise in the [Data Visualization](https://www.kaggle.com/learn/data-visualization) course.  You can reference the tutorial at [this link](https://www.kaggle.com/alexisbcook/scatter-plots).**\n",
    "\n",
    "---\n"
   ]
  },
  {
   "cell_type": "markdown",
   "id": "3ab39474",
   "metadata": {
    "papermill": {
     "duration": 0.011543,
     "end_time": "2024-01-24T20:23:24.290581",
     "exception": false,
     "start_time": "2024-01-24T20:23:24.279038",
     "status": "completed"
    },
    "tags": []
   },
   "source": [
    "In this exercise, you will use your new knowledge to propose a solution to a real-world scenario.  To succeed, you will need to import data into Python, answer questions using the data, and generate **scatter plots** to understand patterns in the data.\n",
    "\n",
    "## Scenario\n",
    "\n",
    "You work for a major candy producer, and your goal is to write a report that your company can use to guide the design of its next product.  Soon after starting your research, you stumble across this [very interesting dataset](https://fivethirtyeight.com/features/the-ultimate-halloween-candy-power-ranking/) containing results from a fun survey to crowdsource favorite candies.\n",
    "\n",
    "## Setup\n",
    "\n",
    "Run the next cell to import and configure the Python libraries that you need to complete the exercise."
   ]
  },
  {
   "cell_type": "code",
   "execution_count": 1,
   "id": "904f55e1",
   "metadata": {
    "execution": {
     "iopub.execute_input": "2024-01-24T20:23:24.317113Z",
     "iopub.status.busy": "2024-01-24T20:23:24.316452Z",
     "iopub.status.idle": "2024-01-24T20:23:26.128358Z",
     "shell.execute_reply": "2024-01-24T20:23:26.126482Z"
    },
    "papermill": {
     "duration": 1.829214,
     "end_time": "2024-01-24T20:23:26.131543",
     "exception": false,
     "start_time": "2024-01-24T20:23:24.302329",
     "status": "completed"
    },
    "tags": []
   },
   "outputs": [
    {
     "name": "stdout",
     "output_type": "stream",
     "text": [
      "Setup Complete\n"
     ]
    }
   ],
   "source": [
    "import pandas as pd\n",
    "pd.plotting.register_matplotlib_converters()\n",
    "import matplotlib.pyplot as plt\n",
    "%matplotlib inline\n",
    "import seaborn as sns\n",
    "print(\"Setup Complete\")"
   ]
  },
  {
   "cell_type": "markdown",
   "id": "dea8afb4",
   "metadata": {
    "papermill": {
     "duration": 0.012102,
     "end_time": "2024-01-24T20:23:26.156236",
     "exception": false,
     "start_time": "2024-01-24T20:23:26.144134",
     "status": "completed"
    },
    "tags": []
   },
   "source": [
    "The questions below will give you feedback on your work. Run the following cell to set up our feedback system."
   ]
  },
  {
   "cell_type": "code",
   "execution_count": 2,
   "id": "62426972",
   "metadata": {
    "execution": {
     "iopub.execute_input": "2024-01-24T20:23:26.183202Z",
     "iopub.status.busy": "2024-01-24T20:23:26.182628Z",
     "iopub.status.idle": "2024-01-24T20:23:26.251546Z",
     "shell.execute_reply": "2024-01-24T20:23:26.250158Z"
    },
    "papermill": {
     "duration": 0.085771,
     "end_time": "2024-01-24T20:23:26.254553",
     "exception": false,
     "start_time": "2024-01-24T20:23:26.168782",
     "status": "completed"
    },
    "tags": []
   },
   "outputs": [
    {
     "name": "stdout",
     "output_type": "stream",
     "text": [
      "Setup Complete\n"
     ]
    }
   ],
   "source": [
    "# Set up code checking\n",
    "import os\n",
    "if not os.path.exists(\"../input/candy.csv\"):\n",
    "    os.symlink(\"../input/data-for-datavis/candy.csv\", \"../input/candy.csv\") \n",
    "from learntools.core import binder\n",
    "binder.bind(globals())\n",
    "from learntools.data_viz_to_coder.ex4 import *\n",
    "print(\"Setup Complete\")"
   ]
  },
  {
   "cell_type": "markdown",
   "id": "d9a18840",
   "metadata": {
    "papermill": {
     "duration": 0.012668,
     "end_time": "2024-01-24T20:23:26.280322",
     "exception": false,
     "start_time": "2024-01-24T20:23:26.267654",
     "status": "completed"
    },
    "tags": []
   },
   "source": [
    "## Step 1: Load the Data\n",
    "\n",
    "Read the candy data file into `candy_data`.  Use the `\"id\"` column to label the rows."
   ]
  },
  {
   "cell_type": "code",
   "execution_count": 3,
   "id": "75fd49b4",
   "metadata": {
    "execution": {
     "iopub.execute_input": "2024-01-24T20:23:26.307830Z",
     "iopub.status.busy": "2024-01-24T20:23:26.307102Z",
     "iopub.status.idle": "2024-01-24T20:23:26.316277Z",
     "shell.execute_reply": "2024-01-24T20:23:26.315439Z"
    },
    "papermill": {
     "duration": 0.025993,
     "end_time": "2024-01-24T20:23:26.319074",
     "exception": false,
     "start_time": "2024-01-24T20:23:26.293081",
     "status": "completed"
    },
    "tags": []
   },
   "outputs": [],
   "source": [
    "# Path of the file to read\n",
    "candy_filepath = \"../input/candy.csv\"\n",
    "\n",
    "# Read the file into a variable candy_data\n",
    "candy_data = pd.read_csv(candy_filepath, index_col='id')\n",
    "\n",
    "\n"
   ]
  },
  {
   "cell_type": "code",
   "execution_count": 4,
   "id": "26724a49",
   "metadata": {
    "execution": {
     "iopub.execute_input": "2024-01-24T20:23:26.346128Z",
     "iopub.status.busy": "2024-01-24T20:23:26.345708Z",
     "iopub.status.idle": "2024-01-24T20:23:26.350246Z",
     "shell.execute_reply": "2024-01-24T20:23:26.349102Z"
    },
    "papermill": {
     "duration": 0.021487,
     "end_time": "2024-01-24T20:23:26.353154",
     "exception": false,
     "start_time": "2024-01-24T20:23:26.331667",
     "status": "completed"
    },
    "tags": []
   },
   "outputs": [],
   "source": [
    "# Lines below will give you a hint or solution code\n",
    "#step_1.hint()\n",
    "#step_1.solution()"
   ]
  },
  {
   "cell_type": "markdown",
   "id": "fb325a39",
   "metadata": {
    "papermill": {
     "duration": 0.011572,
     "end_time": "2024-01-24T20:23:26.376963",
     "exception": false,
     "start_time": "2024-01-24T20:23:26.365391",
     "status": "completed"
    },
    "tags": []
   },
   "source": [
    "## Step 2: Review the data\n",
    "\n",
    "Use a Python command to print the first five rows of the data."
   ]
  },
  {
   "cell_type": "code",
   "execution_count": 5,
   "id": "6c8f0878",
   "metadata": {
    "execution": {
     "iopub.execute_input": "2024-01-24T20:23:26.403137Z",
     "iopub.status.busy": "2024-01-24T20:23:26.402500Z",
     "iopub.status.idle": "2024-01-24T20:23:26.420245Z",
     "shell.execute_reply": "2024-01-24T20:23:26.417981Z"
    },
    "papermill": {
     "duration": 0.034339,
     "end_time": "2024-01-24T20:23:26.423659",
     "exception": false,
     "start_time": "2024-01-24T20:23:26.389320",
     "status": "completed"
    },
    "tags": []
   },
   "outputs": [
    {
     "name": "stdout",
     "output_type": "stream",
     "text": [
      "   competitorname chocolate fruity caramel peanutyalmondy nougat  \\\n",
      "id                                                                 \n",
      "0       100 Grand       Yes     No     Yes             No     No   \n",
      "1    3 Musketeers       Yes     No      No             No    Yes   \n",
      "2       Air Heads        No    Yes      No             No     No   \n",
      "3      Almond Joy       Yes     No      No            Yes     No   \n",
      "4       Baby Ruth       Yes     No     Yes            Yes    Yes   \n",
      "\n",
      "   crispedricewafer hard  bar pluribus  sugarpercent  pricepercent  winpercent  \n",
      "id                                                                              \n",
      "0               Yes   No  Yes       No         0.732         0.860   66.971725  \n",
      "1                No   No  Yes       No         0.604         0.511   67.602936  \n",
      "2                No   No   No       No         0.906         0.511   52.341465  \n",
      "3                No   No  Yes       No         0.465         0.767   50.347546  \n",
      "4                No   No  Yes       No         0.604         0.767   56.914547  \n"
     ]
    }
   ],
   "source": [
    "# Print the first five rows of the data\n",
    "print(candy_data.head()) # Your code here"
   ]
  },
  {
   "cell_type": "markdown",
   "id": "d4bac821",
   "metadata": {
    "papermill": {
     "duration": 0.011866,
     "end_time": "2024-01-24T20:23:26.448022",
     "exception": false,
     "start_time": "2024-01-24T20:23:26.436156",
     "status": "completed"
    },
    "tags": []
   },
   "source": [
    "The dataset contains 83 rows, where each corresponds to a different candy bar.  There are 13 columns:\n",
    "- `'competitorname'` contains the name of the candy bar. \n",
    "- the next **9** columns (from `'chocolate'` to `'pluribus'`) describe the candy.  For instance, rows with chocolate candies have `\"Yes\"` in the `'chocolate'` column (and candies without chocolate have `\"No\"` in the same column).\n",
    "- `'sugarpercent'` provides some indication of the amount of sugar, where higher values signify higher sugar content.\n",
    "- `'pricepercent'` shows the price per unit, relative to the other candies in the dataset.\n",
    "- `'winpercent'` is calculated from the survey results; higher values indicate that the candy was more popular with survey respondents.\n",
    "\n",
    "Use the first five rows of the data to answer the questions below."
   ]
  },
  {
   "cell_type": "code",
   "execution_count": 6,
   "id": "10dddd38",
   "metadata": {
    "execution": {
     "iopub.execute_input": "2024-01-24T20:23:26.475276Z",
     "iopub.status.busy": "2024-01-24T20:23:26.474868Z",
     "iopub.status.idle": "2024-01-24T20:23:26.486326Z",
     "shell.execute_reply": "2024-01-24T20:23:26.485089Z"
    },
    "papermill": {
     "duration": 0.027907,
     "end_time": "2024-01-24T20:23:26.488659",
     "exception": false,
     "start_time": "2024-01-24T20:23:26.460752",
     "status": "completed"
    },
    "tags": []
   },
   "outputs": [
    {
     "data": {
      "application/javascript": [
       "parent.postMessage({\"jupyterEvent\": \"custom.exercise_interaction\", \"data\": {\"outcomeType\": 1, \"valueTowardsCompletion\": 0.3333333333333333, \"interactionType\": 1, \"questionType\": 1, \"questionId\": \"2_ReviewData\", \"learnToolsVersion\": \"0.3.4\", \"failureMessage\": \"\", \"exceptionClass\": \"\", \"trace\": \"\"}}, \"*\")"
      ],
      "text/plain": [
       "<IPython.core.display.Javascript object>"
      ]
     },
     "metadata": {},
     "output_type": "display_data"
    },
    {
     "data": {
      "text/markdown": [
       "<span style=\"color:#33cc33\">Correct</span>"
      ],
      "text/plain": [
       "Correct"
      ]
     },
     "metadata": {},
     "output_type": "display_data"
    }
   ],
   "source": [
    "# Fill in the line below: Which candy was more popular with survey respondents:\n",
    "# '3 Musketeers' or 'Almond Joy'?  (Please enclose your answer in single quotes.)\n",
    "more_popular = '3 Musketeers'  # Replace with your answer\n",
    "\n",
    "# Which candy has higher sugar content: 'Air Heads' or 'Baby Ruth'?\n",
    "more_sugar = 'Air Heads'  # Replace with your answer\n",
    "\n",
    "# Check your answers\n",
    "step_2.check()"
   ]
  },
  {
   "cell_type": "code",
   "execution_count": 7,
   "id": "8b657963",
   "metadata": {
    "execution": {
     "iopub.execute_input": "2024-01-24T20:23:26.515701Z",
     "iopub.status.busy": "2024-01-24T20:23:26.515181Z",
     "iopub.status.idle": "2024-01-24T20:23:26.520336Z",
     "shell.execute_reply": "2024-01-24T20:23:26.519287Z"
    },
    "papermill": {
     "duration": 0.021878,
     "end_time": "2024-01-24T20:23:26.522926",
     "exception": false,
     "start_time": "2024-01-24T20:23:26.501048",
     "status": "completed"
    },
    "tags": []
   },
   "outputs": [],
   "source": [
    "# Lines below will give you a hint or solution code\n",
    "#step_2.hint()\n",
    "#step_2.solution()"
   ]
  },
  {
   "cell_type": "markdown",
   "id": "d329933d",
   "metadata": {
    "papermill": {
     "duration": 0.012735,
     "end_time": "2024-01-24T20:23:26.548242",
     "exception": false,
     "start_time": "2024-01-24T20:23:26.535507",
     "status": "completed"
    },
    "tags": []
   },
   "source": [
    "## Step 3: The role of sugar\n",
    "\n",
    "Do people tend to prefer candies with higher sugar content?  \n",
    "\n",
    "#### Part A\n",
    "\n",
    "Create a scatter plot that shows the relationship between `'sugarpercent'` (on the horizontal x-axis) and `'winpercent'` (on the vertical y-axis).  _Don't add a regression line just yet -- you'll do that in the next step!_"
   ]
  },
  {
   "cell_type": "code",
   "execution_count": 8,
   "id": "c3670c74",
   "metadata": {
    "execution": {
     "iopub.execute_input": "2024-01-24T20:23:26.575527Z",
     "iopub.status.busy": "2024-01-24T20:23:26.575039Z",
     "iopub.status.idle": "2024-01-24T20:23:26.946503Z",
     "shell.execute_reply": "2024-01-24T20:23:26.945217Z"
    },
    "papermill": {
     "duration": 0.387911,
     "end_time": "2024-01-24T20:23:26.948934",
     "exception": false,
     "start_time": "2024-01-24T20:23:26.561023",
     "status": "completed"
    },
    "tags": []
   },
   "outputs": [
    {
     "data": {
      "image/png": "[encoded data removed]",
      "text/plain": [
       "<Figure size 640x480 with 1 Axes>"
      ]
     },
     "metadata": {},
     "output_type": "display_data"
    },
    {
     "data": {
      "application/javascript": [
       "parent.postMessage({\"jupyterEvent\": \"custom.exercise_interaction\", \"data\": {\"outcomeType\": 2, \"failureMessage\": \"Please write code to create a scatter plot.\", \"interactionType\": 1, \"questionType\": 2, \"questionId\": \"3.1_PlotBlueScatter\", \"learnToolsVersion\": \"0.3.4\", \"valueTowardsCompletion\": 0.0, \"exceptionClass\": \"\", \"trace\": \"\"}}, \"*\")"
      ],
      "text/plain": [
       "<IPython.core.display.Javascript object>"
      ]
     },
     "metadata": {},
     "output_type": "display_data"
    },
    {
     "data": {
      "text/markdown": [
       "<span style=\"color:#cc3333\">Incorrect:</span> Please write code to create a scatter plot."
      ],
      "text/plain": [
       "Incorrect: Please write code to create a scatter plot."
      ]
     },
     "metadata": {},
     "output_type": "display_data"
    },
    {
     "data": {
      "text/plain": [
       "<Figure size 640x480 with 0 Axes>"
      ]
     },
     "metadata": {},
     "output_type": "display_data"
    }
   ],
   "source": [
    "# Scatter plot showing the relationship between 'sugarpercent' and 'winpercent'\n",
    "sns.scatterplot(x=candy_data['sugarpercent'], y=candy_data['winpercent'])\n",
    "plt.title('Relationship between Sugar Percent and Win Percent')\n",
    "plt.xlabel('Sugar Percent')\n",
    "plt.ylabel('Win Percent')\n",
    "plt.show() # Your code here\n",
    "\n",
    "# Check your answer\n",
    "step_3.a.check()"
   ]
  },
  {
   "cell_type": "code",
   "execution_count": 9,
   "id": "fba5ba31",
   "metadata": {
    "execution": {
     "iopub.execute_input": "2024-01-24T20:23:26.978709Z",
     "iopub.status.busy": "2024-01-24T20:23:26.978322Z",
     "iopub.status.idle": "2024-01-24T20:23:26.984204Z",
     "shell.execute_reply": "2024-01-24T20:23:26.982698Z"
    },
    "papermill": {
     "duration": 0.023988,
     "end_time": "2024-01-24T20:23:26.986970",
     "exception": false,
     "start_time": "2024-01-24T20:23:26.962982",
     "status": "completed"
    },
    "tags": []
   },
   "outputs": [],
   "source": [
    "# Lines below will give you a hint or solution code\n",
    "#step_3.a.hint()\n",
    "#step_3.a.solution_plot()"
   ]
  },
  {
   "cell_type": "markdown",
   "id": "cd59eea0",
   "metadata": {
    "papermill": {
     "duration": 0.013523,
     "end_time": "2024-01-24T20:23:27.014612",
     "exception": false,
     "start_time": "2024-01-24T20:23:27.001089",
     "status": "completed"
    },
    "tags": []
   },
   "source": [
    "#### Part B\n",
    "\n",
    "Does the scatter plot show a **strong** correlation between the two variables?  If so, are candies with more sugar relatively more or less popular with the survey respondents?"
   ]
  },
  {
   "cell_type": "code",
   "execution_count": 10,
   "id": "dd9de3c8",
   "metadata": {
    "execution": {
     "iopub.execute_input": "2024-01-24T20:23:27.045255Z",
     "iopub.status.busy": "2024-01-24T20:23:27.044780Z",
     "iopub.status.idle": "2024-01-24T20:23:27.050558Z",
     "shell.execute_reply": "2024-01-24T20:23:27.049249Z"
    },
    "papermill": {
     "duration": 0.024159,
     "end_time": "2024-01-24T20:23:27.053485",
     "exception": false,
     "start_time": "2024-01-24T20:23:27.029326",
     "status": "completed"
    },
    "tags": []
   },
   "outputs": [],
   "source": [
    "#step_3.b.hint()"
   ]
  },
  {
   "cell_type": "code",
   "execution_count": 11,
   "id": "eb4a6124",
   "metadata": {
    "execution": {
     "iopub.execute_input": "2024-01-24T20:23:27.085563Z",
     "iopub.status.busy": "2024-01-24T20:23:27.085108Z",
     "iopub.status.idle": "2024-01-24T20:23:27.096513Z",
     "shell.execute_reply": "2024-01-24T20:23:27.095095Z"
    },
    "papermill": {
     "duration": 0.031062,
     "end_time": "2024-01-24T20:23:27.099200",
     "exception": false,
     "start_time": "2024-01-24T20:23:27.068138",
     "status": "completed"
    },
    "tags": []
   },
   "outputs": [
    {
     "data": {
      "application/javascript": [
       "parent.postMessage({\"jupyterEvent\": \"custom.exercise_interaction\", \"data\": {\"interactionType\": 3, \"questionType\": 4, \"questionId\": \"3.2_ThinkBlueScatter\", \"learnToolsVersion\": \"0.3.4\", \"valueTowardsCompletion\": 0.0, \"failureMessage\": \"\", \"exceptionClass\": \"\", \"trace\": \"\", \"outcomeType\": 4}}, \"*\")"
      ],
      "text/plain": [
       "<IPython.core.display.Javascript object>"
      ]
     },
     "metadata": {},
     "output_type": "display_data"
    },
    {
     "data": {
      "text/markdown": [
       "<span style=\"color:#33cc99\">Solution:</span> The scatter plot does not show a strong correlation between the two variables. Since there is no clear relationship between the two variables, this tells us that sugar content does not play a strong role in candy popularity."
      ],
      "text/plain": [
       "Solution: The scatter plot does not show a strong correlation between the two variables. Since there is no clear relationship between the two variables, this tells us that sugar content does not play a strong role in candy popularity."
      ]
     },
     "metadata": {},
     "output_type": "display_data"
    }
   ],
   "source": [
    "# Check your answer (Run this code cell to receive credit!)\n",
    "step_3.b.solution()"
   ]
  },
  {
   "cell_type": "markdown",
   "id": "deb6bc32",
   "metadata": {
    "papermill": {
     "duration": 0.01439,
     "end_time": "2024-01-24T20:23:27.129062",
     "exception": false,
     "start_time": "2024-01-24T20:23:27.114672",
     "status": "completed"
    },
    "tags": []
   },
   "source": [
    "## Step 4: Take a closer look\n",
    "\n",
    "#### Part A\n",
    "\n",
    "Create the same scatter plot you created in **Step 3**, but now with a regression line!"
   ]
  },
  {
   "cell_type": "code",
   "execution_count": 12,
   "id": "e6708336",
   "metadata": {
    "execution": {
     "iopub.execute_input": "2024-01-24T20:23:27.159413Z",
     "iopub.status.busy": "2024-01-24T20:23:27.159017Z",
     "iopub.status.idle": "2024-01-24T20:23:27.604452Z",
     "shell.execute_reply": "2024-01-24T20:23:27.602991Z"
    },
    "papermill": {
     "duration": 0.464143,
     "end_time": "2024-01-24T20:23:27.607564",
     "exception": false,
     "start_time": "2024-01-24T20:23:27.143421",
     "status": "completed"
    },
    "tags": []
   },
   "outputs": [
    {
     "data": {
      "image/png": "[encoded data removed]",
      "text/plain": [
       "<Figure size 640x480 with 1 Axes>"
      ]
     },
     "metadata": {},
     "output_type": "display_data"
    }
   ],
   "source": [
    "# Scatter plot w/ regression line showing the relationship between 'sugarpercent' and 'winpercent'\n",
    "sns.regplot(x=candy_data['sugarpercent'], y=candy_data['winpercent'])\n",
    "plt.title('Relationship between Sugar Percent and Win Percent with Regression Line')\n",
    "plt.xlabel('Sugar Percent')\n",
    "plt.ylabel('Win Percent')\n",
    "plt.show() # Your code here\n",
    "\n",
    "# Check your answer\n"
   ]
  },
  {
   "cell_type": "code",
   "execution_count": 13,
   "id": "cea77889",
   "metadata": {
    "execution": {
     "iopub.execute_input": "2024-01-24T20:23:27.638932Z",
     "iopub.status.busy": "2024-01-24T20:23:27.638510Z",
     "iopub.status.idle": "2024-01-24T20:23:27.643816Z",
     "shell.execute_reply": "2024-01-24T20:23:27.642582Z"
    },
    "papermill": {
     "duration": 0.024121,
     "end_time": "2024-01-24T20:23:27.646358",
     "exception": false,
     "start_time": "2024-01-24T20:23:27.622237",
     "status": "completed"
    },
    "tags": []
   },
   "outputs": [],
   "source": [
    "# Lines below will give you a hint or solution code\n",
    "#step_4.a.hint()\n",
    "#step_4.a.solution_plot()"
   ]
  },
  {
   "cell_type": "markdown",
   "id": "67be5c52",
   "metadata": {
    "papermill": {
     "duration": 0.015006,
     "end_time": "2024-01-24T20:23:27.735338",
     "exception": false,
     "start_time": "2024-01-24T20:23:27.720332",
     "status": "completed"
    },
    "tags": []
   },
   "source": [
    "#### Part B\n",
    "\n",
    "According to the plot above, is there a **slight** correlation between `'winpercent'` and `'sugarpercent'`?  What does this tell you about the candy that people tend to prefer?"
   ]
  },
  {
   "cell_type": "code",
   "execution_count": 14,
   "id": "19c3adeb",
   "metadata": {
    "execution": {
     "iopub.execute_input": "2024-01-24T20:23:27.767423Z",
     "iopub.status.busy": "2024-01-24T20:23:27.767058Z",
     "iopub.status.idle": "2024-01-24T20:23:27.771772Z",
     "shell.execute_reply": "2024-01-24T20:23:27.770889Z"
    },
    "papermill": {
     "duration": 0.023259,
     "end_time": "2024-01-24T20:23:27.773966",
     "exception": false,
     "start_time": "2024-01-24T20:23:27.750707",
     "status": "completed"
    },
    "tags": []
   },
   "outputs": [],
   "source": [
    "#step_4.b.hint()"
   ]
  },
  {
   "cell_type": "code",
   "execution_count": 15,
   "id": "fbc418e0",
   "metadata": {
    "execution": {
     "iopub.execute_input": "2024-01-24T20:23:27.806111Z",
     "iopub.status.busy": "2024-01-24T20:23:27.805274Z",
     "iopub.status.idle": "2024-01-24T20:23:27.813400Z",
     "shell.execute_reply": "2024-01-24T20:23:27.812551Z"
    },
    "papermill": {
     "duration": 0.026513,
     "end_time": "2024-01-24T20:23:27.815455",
     "exception": false,
     "start_time": "2024-01-24T20:23:27.788942",
     "status": "completed"
    },
    "tags": []
   },
   "outputs": [
    {
     "data": {
      "application/javascript": [
       "parent.postMessage({\"jupyterEvent\": \"custom.exercise_interaction\", \"data\": {\"interactionType\": 3, \"questionType\": 4, \"questionId\": \"4.2_ThinkBlueReg\", \"learnToolsVersion\": \"0.3.4\", \"valueTowardsCompletion\": 0.0, \"failureMessage\": \"\", \"exceptionClass\": \"\", \"trace\": \"\", \"outcomeType\": 4}}, \"*\")"
      ],
      "text/plain": [
       "<IPython.core.display.Javascript object>"
      ]
     },
     "metadata": {},
     "output_type": "display_data"
    },
    {
     "data": {
      "text/markdown": [
       "<span style=\"color:#33cc99\">Solution:</span> Since the regression line has a slightly positive slope, this tells us that there is a slightly positive correlation between `'winpercent'` and `'sugarpercent'`. Thus, people have a slight preference for candies containing relatively more sugar."
      ],
      "text/plain": [
       "Solution: Since the regression line has a slightly positive slope, this tells us that there is a slightly positive correlation between `'winpercent'` and `'sugarpercent'`. Thus, people have a slight preference for candies containing relatively more sugar."
      ]
     },
     "metadata": {},
     "output_type": "display_data"
    }
   ],
   "source": [
    "# Check your answer (Run this code cell to receive credit!)\n",
    "step_4.b.solution()"
   ]
  },
  {
   "cell_type": "markdown",
   "id": "2ba447ab",
   "metadata": {
    "papermill": {
     "duration": 0.014433,
     "end_time": "2024-01-24T20:23:27.844613",
     "exception": false,
     "start_time": "2024-01-24T20:23:27.830180",
     "status": "completed"
    },
    "tags": []
   },
   "source": [
    "## Step 5: Chocolate!\n",
    "\n",
    "In the code cell below, create a scatter plot to show the relationship between `'pricepercent'` (on the horizontal x-axis) and `'winpercent'` (on the vertical y-axis). Use the `'chocolate'` column to color-code the points.  _Don't add any regression lines just yet -- you'll do that in the next step!_"
   ]
  },
  {
   "cell_type": "code",
   "execution_count": 16,
   "id": "bda52d05",
   "metadata": {
    "execution": {
     "iopub.execute_input": "2024-01-24T20:23:27.876817Z",
     "iopub.status.busy": "2024-01-24T20:23:27.875981Z",
     "iopub.status.idle": "2024-01-24T20:23:28.265273Z",
     "shell.execute_reply": "2024-01-24T20:23:28.263726Z"
    },
    "papermill": {
     "duration": 0.40848,
     "end_time": "2024-01-24T20:23:28.267880",
     "exception": false,
     "start_time": "2024-01-24T20:23:27.859400",
     "status": "completed"
    },
    "tags": []
   },
   "outputs": [
    {
     "data": {
      "image/png": "[encoded data removed]",
      "text/plain": [
       "<Figure size 640x480 with 1 Axes>"
      ]
     },
     "metadata": {},
     "output_type": "display_data"
    }
   ],
   "source": [
    "# Scatter plot showing the relationship between 'pricepercent', 'winpercent', and 'chocolate'\n",
    "sns.scatterplot(x=candy_data['pricepercent'], y=candy_data['winpercent'], hue=candy_data['chocolate'])\n",
    "plt.title('Relationship between Price Percent, Win Percent, and Chocolate')\n",
    "plt.xlabel('Price Percent')\n",
    "plt.ylabel('Win Percent')\n",
    "plt.show() # Your code here\n",
    "\n",
    "# Check your answer\n"
   ]
  },
  {
   "cell_type": "code",
   "execution_count": 17,
   "id": "d9658701",
   "metadata": {
    "execution": {
     "iopub.execute_input": "2024-01-24T20:23:28.302583Z",
     "iopub.status.busy": "2024-01-24T20:23:28.302096Z",
     "iopub.status.idle": "2024-01-24T20:23:28.307066Z",
     "shell.execute_reply": "2024-01-24T20:23:28.305860Z"
    },
    "papermill": {
     "duration": 0.025551,
     "end_time": "2024-01-24T20:23:28.309370",
     "exception": false,
     "start_time": "2024-01-24T20:23:28.283819",
     "status": "completed"
    },
    "tags": []
   },
   "outputs": [],
   "source": [
    "# Lines below will give you a hint or solution code\n",
    "#step_5.hint()\n",
    "#step_5.solution_plot()"
   ]
  },
  {
   "cell_type": "markdown",
   "id": "13df1e64",
   "metadata": {
    "papermill": {
     "duration": 0.016014,
     "end_time": "2024-01-24T20:23:28.341491",
     "exception": false,
     "start_time": "2024-01-24T20:23:28.325477",
     "status": "completed"
    },
    "tags": []
   },
   "source": [
    "Can you see any interesting patterns in the scatter plot?  We'll investigate this plot further  by adding regression lines in the next step!\n",
    "\n",
    "## Step 6: Investigate chocolate\n",
    "\n",
    "#### Part A\n",
    "\n",
    "Create the same scatter plot you created in **Step 5**, but now with two regression lines, corresponding to (1) chocolate candies and (2) candies without chocolate."
   ]
  },
  {
   "cell_type": "code",
   "execution_count": 18,
   "id": "63ff3274",
   "metadata": {
    "execution": {
     "iopub.execute_input": "2024-01-24T20:23:28.376867Z",
     "iopub.status.busy": "2024-01-24T20:23:28.376372Z",
     "iopub.status.idle": "2024-01-24T20:23:29.292089Z",
     "shell.execute_reply": "2024-01-24T20:23:29.290720Z"
    },
    "papermill": {
     "duration": 0.936833,
     "end_time": "2024-01-24T20:23:29.294882",
     "exception": false,
     "start_time": "2024-01-24T20:23:28.358049",
     "status": "completed"
    },
    "tags": []
   },
   "outputs": [
    {
     "data": {
      "image/png": "[encoded data removed]",
      "text/plain": [
       "<Figure size 578.611x500 with 1 Axes>"
      ]
     },
     "metadata": {},
     "output_type": "display_data"
    },
    {
     "data": {
      "text/markdown": [],
      "text/plain": [
       "<learntools.core.constants.PlaceholderValue at 0x7fd4aadc4be0>"
      ]
     },
     "execution_count": 18,
     "metadata": {},
     "output_type": "execute_result"
    }
   ],
   "source": [
    "sns.lmplot(x='pricepercent', y='winpercent', hue='chocolate', data=candy_data)\n",
    "plt.title('Color-coded Scatter Plot with Regression Lines for Chocolate and Non-Chocolate Candies')\n",
    "plt.xlabel('Price Percent')\n",
    "plt.ylabel('Win Percent')\n",
    "plt.show()# Color-coded scatter plot w/ regression lines\n",
    "____ # Your code here\n",
    "\n"
   ]
  },
  {
   "cell_type": "code",
   "execution_count": 19,
   "id": "2b41fabf",
   "metadata": {
    "execution": {
     "iopub.execute_input": "2024-01-24T20:23:29.334231Z",
     "iopub.status.busy": "2024-01-24T20:23:29.333085Z",
     "iopub.status.idle": "2024-01-24T20:23:29.337615Z",
     "shell.execute_reply": "2024-01-24T20:23:29.336833Z"
    },
    "papermill": {
     "duration": 0.026607,
     "end_time": "2024-01-24T20:23:29.340006",
     "exception": false,
     "start_time": "2024-01-24T20:23:29.313399",
     "status": "completed"
    },
    "tags": []
   },
   "outputs": [],
   "source": [
    "# Lines below will give you a hint or solution code\n",
    "#step_6.a.hint()\n",
    "#step_6.a.solution_plot()"
   ]
  },
  {
   "cell_type": "markdown",
   "id": "33b162c2",
   "metadata": {
    "papermill": {
     "duration": 0.017843,
     "end_time": "2024-01-24T20:23:29.375792",
     "exception": false,
     "start_time": "2024-01-24T20:23:29.357949",
     "status": "completed"
    },
    "tags": []
   },
   "source": [
    "#### Part B\n",
    "\n",
    "Using the regression lines, what conclusions can you draw about the effects of chocolate and price on candy popularity?"
   ]
  },
  {
   "cell_type": "code",
   "execution_count": 20,
   "id": "f295647b",
   "metadata": {
    "execution": {
     "iopub.execute_input": "2024-01-24T20:23:29.420812Z",
     "iopub.status.busy": "2024-01-24T20:23:29.420268Z",
     "iopub.status.idle": "2024-01-24T20:23:29.426376Z",
     "shell.execute_reply": "2024-01-24T20:23:29.424985Z"
    },
    "papermill": {
     "duration": 0.034814,
     "end_time": "2024-01-24T20:23:29.429801",
     "exception": false,
     "start_time": "2024-01-24T20:23:29.394987",
     "status": "completed"
    },
    "tags": []
   },
   "outputs": [],
   "source": [
    "#step_6.b.hint()"
   ]
  },
  {
   "cell_type": "code",
   "execution_count": 21,
   "id": "05ef4e93",
   "metadata": {
    "execution": {
     "iopub.execute_input": "2024-01-24T20:23:29.473657Z",
     "iopub.status.busy": "2024-01-24T20:23:29.472964Z",
     "iopub.status.idle": "2024-01-24T20:23:29.480949Z",
     "shell.execute_reply": "2024-01-24T20:23:29.480095Z"
    },
    "papermill": {
     "duration": 0.029357,
     "end_time": "2024-01-24T20:23:29.483130",
     "exception": false,
     "start_time": "2024-01-24T20:23:29.453773",
     "status": "completed"
    },
    "tags": []
   },
   "outputs": [
    {
     "data": {
      "application/javascript": [
       "parent.postMessage({\"jupyterEvent\": \"custom.exercise_interaction\", \"data\": {\"interactionType\": 3, \"questionType\": 4, \"questionId\": \"6.2_ThinkColorReg\", \"learnToolsVersion\": \"0.3.4\", \"valueTowardsCompletion\": 0.0, \"failureMessage\": \"\", \"exceptionClass\": \"\", \"trace\": \"\", \"outcomeType\": 4}}, \"*\")"
      ],
      "text/plain": [
       "<IPython.core.display.Javascript object>"
      ]
     },
     "metadata": {},
     "output_type": "display_data"
    },
    {
     "data": {
      "text/markdown": [
       "<span style=\"color:#33cc99\">Solution:</span> We'll begin with the regression line for chocolate candies. Since this line has a slightly positive slope, we can say that more expensive chocolate candies tend to be more popular (than relatively cheaper chocolate candies).  Likewise, since the regression line for candies without chocolate has a negative slope, we can say that if candies don't contain chocolate, they tend to be more popular when they are cheaper.  One important note, however, is that the dataset is quite small -- so we shouldn't invest too much trust in these patterns!  To inspire more confidence in the results, we should add more candies to the dataset."
      ],
      "text/plain": [
       "Solution: We'll begin with the regression line for chocolate candies. Since this line has a slightly positive slope, we can say that more expensive chocolate candies tend to be more popular (than relatively cheaper chocolate candies).  Likewise, since the regression line for candies without chocolate has a negative slope, we can say that if candies don't contain chocolate, they tend to be more popular when they are cheaper.  One important note, however, is that the dataset is quite small -- so we shouldn't invest too much trust in these patterns!  To inspire more confidence in the results, we should add more candies to the dataset."
      ]
     },
     "metadata": {},
     "output_type": "display_data"
    }
   ],
   "source": [
    "# Check your answer (Run this code cell to receive credit!)\n",
    "step_6.b.solution()"
   ]
  },
  {
   "cell_type": "markdown",
   "id": "69ffad79",
   "metadata": {
    "papermill": {
     "duration": 0.017712,
     "end_time": "2024-01-24T20:23:29.519447",
     "exception": false,
     "start_time": "2024-01-24T20:23:29.501735",
     "status": "completed"
    },
    "tags": []
   },
   "source": [
    "## Step 7: Everybody loves chocolate.\n",
    "\n",
    "#### Part A\n",
    "\n",
    "Create a categorical scatter plot to highlight the relationship between `'chocolate'` and `'winpercent'`.  Put `'chocolate'` on the (horizontal) x-axis, and `'winpercent'` on the (vertical) y-axis."
   ]
  },
  {
   "cell_type": "code",
   "execution_count": 22,
   "id": "8c328680",
   "metadata": {
    "execution": {
     "iopub.execute_input": "2024-01-24T20:23:29.562405Z",
     "iopub.status.busy": "2024-01-24T20:23:29.561435Z",
     "iopub.status.idle": "2024-01-24T20:23:30.167458Z",
     "shell.execute_reply": "2024-01-24T20:23:30.165827Z"
    },
    "papermill": {
     "duration": 0.63296,
     "end_time": "2024-01-24T20:23:30.171932",
     "exception": false,
     "start_time": "2024-01-24T20:23:29.538972",
     "status": "completed"
    },
    "tags": []
   },
   "outputs": [
    {
     "data": {
      "image/png": "[encoded data removed]",
      "text/plain": [
       "<Figure size 640x480 with 1 Axes>"
      ]
     },
     "metadata": {},
     "output_type": "display_data"
    }
   ],
   "source": [
    "# Scatter plot showing the relationship between 'chocolate' and 'winpercent'\n",
    "sns.swarmplot(x=candy_data['chocolate'], y=candy_data['winpercent'])\n",
    "plt.title('Relationship between Chocolate and Win Percent')\n",
    "plt.xlabel('Chocolate')\n",
    "plt.ylabel('Win Percent')\n",
    "plt.show() # Your code here\n",
    "\n"
   ]
  },
  {
   "cell_type": "code",
   "execution_count": 23,
   "id": "863b3051",
   "metadata": {
    "execution": {
     "iopub.execute_input": "2024-01-24T20:23:30.217179Z",
     "iopub.status.busy": "2024-01-24T20:23:30.216704Z",
     "iopub.status.idle": "2024-01-24T20:23:30.220955Z",
     "shell.execute_reply": "2024-01-24T20:23:30.220004Z"
    },
    "papermill": {
     "duration": 0.027175,
     "end_time": "2024-01-24T20:23:30.223201",
     "exception": false,
     "start_time": "2024-01-24T20:23:30.196026",
     "status": "completed"
    },
    "tags": []
   },
   "outputs": [],
   "source": [
    "# Lines below will give you a hint or solution code\n",
    "#step_7.a.hint()\n",
    "#step_7.a.solution_plot()"
   ]
  },
  {
   "cell_type": "markdown",
   "id": "71571ade",
   "metadata": {
    "papermill": {
     "duration": 0.017751,
     "end_time": "2024-01-24T20:23:30.259279",
     "exception": false,
     "start_time": "2024-01-24T20:23:30.241528",
     "status": "completed"
    },
    "tags": []
   },
   "source": [
    "#### Part B\n",
    "\n",
    "You decide to dedicate a section of your report to the fact that chocolate candies tend to be more popular than candies without chocolate.  Which plot is more appropriate to tell this story: the plot from **Step 6**, or the plot from **Step 7**?"
   ]
  },
  {
   "cell_type": "code",
   "execution_count": 24,
   "id": "774c23eb",
   "metadata": {
    "execution": {
     "iopub.execute_input": "2024-01-24T20:23:30.298449Z",
     "iopub.status.busy": "2024-01-24T20:23:30.297628Z",
     "iopub.status.idle": "2024-01-24T20:23:30.301921Z",
     "shell.execute_reply": "2024-01-24T20:23:30.301015Z"
    },
    "papermill": {
     "duration": 0.026704,
     "end_time": "2024-01-24T20:23:30.304188",
     "exception": false,
     "start_time": "2024-01-24T20:23:30.277484",
     "status": "completed"
    },
    "tags": []
   },
   "outputs": [],
   "source": [
    "#step_7.b.hint()"
   ]
  },
  {
   "cell_type": "code",
   "execution_count": 25,
   "id": "0d5f01b0",
   "metadata": {
    "execution": {
     "iopub.execute_input": "2024-01-24T20:23:30.342954Z",
     "iopub.status.busy": "2024-01-24T20:23:30.342149Z",
     "iopub.status.idle": "2024-01-24T20:23:30.351386Z",
     "shell.execute_reply": "2024-01-24T20:23:30.350438Z"
    },
    "papermill": {
     "duration": 0.0314,
     "end_time": "2024-01-24T20:23:30.353692",
     "exception": false,
     "start_time": "2024-01-24T20:23:30.322292",
     "status": "completed"
    },
    "tags": []
   },
   "outputs": [
    {
     "data": {
      "application/javascript": [
       "parent.postMessage({\"jupyterEvent\": \"custom.exercise_interaction\", \"data\": {\"interactionType\": 3, \"questionType\": 4, \"questionId\": \"7.2_ThinkSwarm\", \"learnToolsVersion\": \"0.3.4\", \"valueTowardsCompletion\": 0.0, \"failureMessage\": \"\", \"exceptionClass\": \"\", \"trace\": \"\", \"outcomeType\": 4}}, \"*\")"
      ],
      "text/plain": [
       "<IPython.core.display.Javascript object>"
      ]
     },
     "metadata": {},
     "output_type": "display_data"
    },
    {
     "data": {
      "text/markdown": [
       "<span style=\"color:#33cc99\">Solution:</span> In this case, the categorical scatter plot from **Step 7** is the more appropriate plot. While both plots tell the desired story, the plot from **Step 6** conveys far more information that could distract from the main point."
      ],
      "text/plain": [
       "Solution: In this case, the categorical scatter plot from **Step 7** is the more appropriate plot. While both plots tell the desired story, the plot from **Step 6** conveys far more information that could distract from the main point."
      ]
     },
     "metadata": {},
     "output_type": "display_data"
    }
   ],
   "source": [
    "# Check your answer (Run this code cell to receive credit!)\n",
    "step_7.b.solution()"
   ]
  },
  {
   "cell_type": "markdown",
   "id": "ee538ffc",
   "metadata": {
    "papermill": {
     "duration": 0.017865,
     "end_time": "2024-01-24T20:23:30.390245",
     "exception": false,
     "start_time": "2024-01-24T20:23:30.372380",
     "status": "completed"
    },
    "tags": []
   },
   "source": [
    "## Keep going\n",
    "\n",
    "Explore **[histograms and density plots](https://www.kaggle.com/alexisbcook/distributions)**."
   ]
  },
  {
   "cell_type": "markdown",
   "id": "3cc90541",
   "metadata": {
    "papermill": {
     "duration": 0.018296,
     "end_time": "2024-01-24T20:23:30.426924",
     "exception": false,
     "start_time": "2024-01-24T20:23:30.408628",
     "status": "completed"
    },
    "tags": []
   },
   "source": [
    "---\n",
    "\n",
    "\n",
    "\n",
    "\n",
    "*Have questions or comments? Visit the [course discussion forum](https://www.kaggle.com/learn/data-visualization/discussion) to chat with other learners.*"
   ]
  }
 ],
 "metadata": {
  "kaggle": {
   "accelerator": "none",
   "dataSources": [
    {
     "datasetId": 116573,
     "sourceId": 3551030,
     "sourceType": "datasetVersion"
    }
   ],
   "isGpuEnabled": false,
   "isInternetEnabled": false,
   "language": "python",
   "sourceType": "notebook"
  },
  "kernelspec": {
   "display_name": "Python 3",
   "language": "python",
   "name": "python3"
  },
  "language_info": {
   "codemirror_mode": {
    "name": "ipython",
    "version": 3
   },
   "file_extension": ".py",
   "mimetype": "text/x-python",
   "name": "python",
   "nbconvert_exporter": "python",
   "pygments_lexer": "ipython3",
   "version": "3.10.12"
  },
  "papermill": {
   "default_parameters": {},
   "duration": 10.581924,
   "end_time": "2024-01-24T20:23:31.372033",
   "environment_variables": {},
   "exception": null,
   "input_path": "__notebook__.ipynb",
   "output_path": "__notebook__.ipynb",
   "parameters": {},
   "start_time": "2024-01-24T20:23:20.790109",
   "version": "2.4.0"
  }
 },
 "nbformat": 4,
 "nbformat_minor": 5
}
